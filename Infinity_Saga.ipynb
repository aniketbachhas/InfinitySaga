{
  "nbformat": 4,
  "nbformat_minor": 0,
  "metadata": {
    "colab": {
      "provenance": [],
      "authorship_tag": "ABX9TyOQVZBZpmSNvQXNY341ypoH",
      "include_colab_link": true
    },
    "kernelspec": {
      "name": "python3",
      "display_name": "Python 3"
    },
    "language_info": {
      "name": "python"
    }
  },
  "cells": [
    {
      "cell_type": "markdown",
      "metadata": {
        "id": "view-in-github",
        "colab_type": "text"
      },
      "source": [
        "<a href=\"https://colab.research.google.com/github/aniketbachhas/InfinitySaga/blob/main/Infinity_Saga.ipynb\" target=\"_parent\"><img src=\"https://colab.research.google.com/assets/colab-badge.svg\" alt=\"Open In Colab\"/></a>"
      ]
    },
    {
      "cell_type": "markdown",
      "source": [
        "Importing Libraries"
      ],
      "metadata": {
        "id": "UEQJkk2VG6cd"
      }
    },
    {
      "cell_type": "code",
      "execution_count": 29,
      "metadata": {
        "id": "MOwsvoLqErhw"
      },
      "outputs": [],
      "source": [
        "import numpy as np\n",
        "import pandas as pd"
      ]
    },
    {
      "cell_type": "markdown",
      "source": [
        "Loading the dataset"
      ],
      "metadata": {
        "id": "6orvG77mG_C3"
      }
    },
    {
      "cell_type": "code",
      "source": [
        "data = pd.read_csv('/content/MCU_movies_Dataset.csv', encoding = 'unicode_escape')\n",
        "data.shape"
      ],
      "metadata": {
        "colab": {
          "base_uri": "https://localhost:8080/"
        },
        "id": "fRpbQ0oHFQdq",
        "outputId": "2f744850-95c3-4611-da0e-c4e16ef4621d"
      },
      "execution_count": 30,
      "outputs": [
        {
          "output_type": "execute_result",
          "data": {
            "text/plain": [
              "(33, 18)"
            ]
          },
          "metadata": {},
          "execution_count": 30
        }
      ]
    },
    {
      "cell_type": "code",
      "source": [
        "data.head(3)"
      ],
      "metadata": {
        "colab": {
          "base_uri": "https://localhost:8080/",
          "height": 606
        },
        "id": "e0SaheF2NU7J",
        "outputId": "f97a663e-c0c5-43de-805b-5164854b596c"
      },
      "execution_count": 31,
      "outputs": [
        {
          "output_type": "execute_result",
          "data": {
            "text/plain": [
              "   Id                Title      Phase                     Genres Release Date  \\\n",
              "0   1             Iron Man  Phase One  Action, Adventure, Sci-Fi   02-05-2008   \n",
              "1   2  The Incredible Hulk  Phase One  Action, Adventure, Sci-Fi   13-06-2008   \n",
              "2   3           Iron Man 2  Phase One  Action, Adventure, Sci-Fi   07-05-2010   \n",
              "\n",
              "          Director                                       ScreenWriter  \\\n",
              "0      Jon Favreau  Mark Fergus & Hawk Ostby and Art Marcum & Matt...   \n",
              "1  Louis Leterrier                                           Zak Penn   \n",
              "2      Jon Favreau                                     Justin Theroux   \n",
              "\n",
              "                                   Producer  \\\n",
              "0                  Avi Arad and Kevin Feige   \n",
              "1  Avi Arad, Gale Anne Hurd and Kevin Feige   \n",
              "2                               Kevin Feige   \n",
              "\n",
              "                                                Cast  \\\n",
              "0  Robert Downey Jr., Gwyneth Paltrow, Terrence H...   \n",
              "1   Edward Norton, Liv Tyler, Tim Roth, William Hurt   \n",
              "2  Robert Downey Jr., Mickey Rourke, Gwyneth Palt...   \n",
              "\n",
              "                                                Plot  \\\n",
              "0  After being held captive in an Afghan cave, bi...   \n",
              "1  Bruce Banner, a scientist on the run from the ...   \n",
              "2  With the world now aware of his identity as Ir...   \n",
              "\n",
              "                                    Language  \\\n",
              "0  English, Persian, Urdu, Arabic, Hungarian   \n",
              "1               English, Portuguese, Spanish   \n",
              "2                   English, French, Russian   \n",
              "\n",
              "                                   Filming Locations    Status Movie Rating  \\\n",
              "0  Palmdale Regional Airport, Palmdale, Californi...  Released        PG-13   \n",
              "1     Cherry Street Bridge, Toronto, Ontario, Canada  Released        PG-13   \n",
              "2  D.C. Stages, 1360 East 6th Street, Downtown, L...  Released        PG-13   \n",
              "\n",
              "   Review Rating Movie Run Time       Budget   Box office  \n",
              "0            7.9        126 min  140000000.0  585174222.0  \n",
              "1            6.7        112 min  150000000.0  263427551.0  \n",
              "2            7.0        124 min  200000000.0  623933331.0  "
            ],
            "text/html": [
              "\n",
              "  <div id=\"df-638cf1bd-b5db-4894-a68c-4106924134f3\">\n",
              "    <div class=\"colab-df-container\">\n",
              "      <div>\n",
              "<style scoped>\n",
              "    .dataframe tbody tr th:only-of-type {\n",
              "        vertical-align: middle;\n",
              "    }\n",
              "\n",
              "    .dataframe tbody tr th {\n",
              "        vertical-align: top;\n",
              "    }\n",
              "\n",
              "    .dataframe thead th {\n",
              "        text-align: right;\n",
              "    }\n",
              "</style>\n",
              "<table border=\"1\" class=\"dataframe\">\n",
              "  <thead>\n",
              "    <tr style=\"text-align: right;\">\n",
              "      <th></th>\n",
              "      <th>Id</th>\n",
              "      <th>Title</th>\n",
              "      <th>Phase</th>\n",
              "      <th>Genres</th>\n",
              "      <th>Release Date</th>\n",
              "      <th>Director</th>\n",
              "      <th>ScreenWriter</th>\n",
              "      <th>Producer</th>\n",
              "      <th>Cast</th>\n",
              "      <th>Plot</th>\n",
              "      <th>Language</th>\n",
              "      <th>Filming Locations</th>\n",
              "      <th>Status</th>\n",
              "      <th>Movie Rating</th>\n",
              "      <th>Review Rating</th>\n",
              "      <th>Movie Run Time</th>\n",
              "      <th>Budget</th>\n",
              "      <th>Box office</th>\n",
              "    </tr>\n",
              "  </thead>\n",
              "  <tbody>\n",
              "    <tr>\n",
              "      <th>0</th>\n",
              "      <td>1</td>\n",
              "      <td>Iron Man</td>\n",
              "      <td>Phase One</td>\n",
              "      <td>Action, Adventure, Sci-Fi</td>\n",
              "      <td>02-05-2008</td>\n",
              "      <td>Jon Favreau</td>\n",
              "      <td>Mark Fergus &amp; Hawk Ostby and Art Marcum &amp; Matt...</td>\n",
              "      <td>Avi Arad and Kevin Feige</td>\n",
              "      <td>Robert Downey Jr., Gwyneth Paltrow, Terrence H...</td>\n",
              "      <td>After being held captive in an Afghan cave, bi...</td>\n",
              "      <td>English, Persian, Urdu, Arabic, Hungarian</td>\n",
              "      <td>Palmdale Regional Airport, Palmdale, Californi...</td>\n",
              "      <td>Released</td>\n",
              "      <td>PG-13</td>\n",
              "      <td>7.9</td>\n",
              "      <td>126 min</td>\n",
              "      <td>140000000.0</td>\n",
              "      <td>585174222.0</td>\n",
              "    </tr>\n",
              "    <tr>\n",
              "      <th>1</th>\n",
              "      <td>2</td>\n",
              "      <td>The Incredible Hulk</td>\n",
              "      <td>Phase One</td>\n",
              "      <td>Action, Adventure, Sci-Fi</td>\n",
              "      <td>13-06-2008</td>\n",
              "      <td>Louis Leterrier</td>\n",
              "      <td>Zak Penn</td>\n",
              "      <td>Avi Arad, Gale Anne Hurd and Kevin Feige</td>\n",
              "      <td>Edward Norton, Liv Tyler, Tim Roth, William Hurt</td>\n",
              "      <td>Bruce Banner, a scientist on the run from the ...</td>\n",
              "      <td>English, Portuguese, Spanish</td>\n",
              "      <td>Cherry Street Bridge, Toronto, Ontario, Canada</td>\n",
              "      <td>Released</td>\n",
              "      <td>PG-13</td>\n",
              "      <td>6.7</td>\n",
              "      <td>112 min</td>\n",
              "      <td>150000000.0</td>\n",
              "      <td>263427551.0</td>\n",
              "    </tr>\n",
              "    <tr>\n",
              "      <th>2</th>\n",
              "      <td>3</td>\n",
              "      <td>Iron Man 2</td>\n",
              "      <td>Phase One</td>\n",
              "      <td>Action, Adventure, Sci-Fi</td>\n",
              "      <td>07-05-2010</td>\n",
              "      <td>Jon Favreau</td>\n",
              "      <td>Justin Theroux</td>\n",
              "      <td>Kevin Feige</td>\n",
              "      <td>Robert Downey Jr., Mickey Rourke, Gwyneth Palt...</td>\n",
              "      <td>With the world now aware of his identity as Ir...</td>\n",
              "      <td>English, French, Russian</td>\n",
              "      <td>D.C. Stages, 1360 East 6th Street, Downtown, L...</td>\n",
              "      <td>Released</td>\n",
              "      <td>PG-13</td>\n",
              "      <td>7.0</td>\n",
              "      <td>124 min</td>\n",
              "      <td>200000000.0</td>\n",
              "      <td>623933331.0</td>\n",
              "    </tr>\n",
              "  </tbody>\n",
              "</table>\n",
              "</div>\n",
              "      <button class=\"colab-df-convert\" onclick=\"convertToInteractive('df-638cf1bd-b5db-4894-a68c-4106924134f3')\"\n",
              "              title=\"Convert this dataframe to an interactive table.\"\n",
              "              style=\"display:none;\">\n",
              "        \n",
              "  <svg xmlns=\"http://www.w3.org/2000/svg\" height=\"24px\"viewBox=\"0 0 24 24\"\n",
              "       width=\"24px\">\n",
              "    <path d=\"M0 0h24v24H0V0z\" fill=\"none\"/>\n",
              "    <path d=\"M18.56 5.44l.94 2.06.94-2.06 2.06-.94-2.06-.94-.94-2.06-.94 2.06-2.06.94zm-11 1L8.5 8.5l.94-2.06 2.06-.94-2.06-.94L8.5 2.5l-.94 2.06-2.06.94zm10 10l.94 2.06.94-2.06 2.06-.94-2.06-.94-.94-2.06-.94 2.06-2.06.94z\"/><path d=\"M17.41 7.96l-1.37-1.37c-.4-.4-.92-.59-1.43-.59-.52 0-1.04.2-1.43.59L10.3 9.45l-7.72 7.72c-.78.78-.78 2.05 0 2.83L4 21.41c.39.39.9.59 1.41.59.51 0 1.02-.2 1.41-.59l7.78-7.78 2.81-2.81c.8-.78.8-2.07 0-2.86zM5.41 20L4 18.59l7.72-7.72 1.47 1.35L5.41 20z\"/>\n",
              "  </svg>\n",
              "      </button>\n",
              "      \n",
              "  <style>\n",
              "    .colab-df-container {\n",
              "      display:flex;\n",
              "      flex-wrap:wrap;\n",
              "      gap: 12px;\n",
              "    }\n",
              "\n",
              "    .colab-df-convert {\n",
              "      background-color: #E8F0FE;\n",
              "      border: none;\n",
              "      border-radius: 50%;\n",
              "      cursor: pointer;\n",
              "      display: none;\n",
              "      fill: #1967D2;\n",
              "      height: 32px;\n",
              "      padding: 0 0 0 0;\n",
              "      width: 32px;\n",
              "    }\n",
              "\n",
              "    .colab-df-convert:hover {\n",
              "      background-color: #E2EBFA;\n",
              "      box-shadow: 0px 1px 2px rgba(60, 64, 67, 0.3), 0px 1px 3px 1px rgba(60, 64, 67, 0.15);\n",
              "      fill: #174EA6;\n",
              "    }\n",
              "\n",
              "    [theme=dark] .colab-df-convert {\n",
              "      background-color: #3B4455;\n",
              "      fill: #D2E3FC;\n",
              "    }\n",
              "\n",
              "    [theme=dark] .colab-df-convert:hover {\n",
              "      background-color: #434B5C;\n",
              "      box-shadow: 0px 1px 3px 1px rgba(0, 0, 0, 0.15);\n",
              "      filter: drop-shadow(0px 1px 2px rgba(0, 0, 0, 0.3));\n",
              "      fill: #FFFFFF;\n",
              "    }\n",
              "  </style>\n",
              "\n",
              "      <script>\n",
              "        const buttonEl =\n",
              "          document.querySelector('#df-638cf1bd-b5db-4894-a68c-4106924134f3 button.colab-df-convert');\n",
              "        buttonEl.style.display =\n",
              "          google.colab.kernel.accessAllowed ? 'block' : 'none';\n",
              "\n",
              "        async function convertToInteractive(key) {\n",
              "          const element = document.querySelector('#df-638cf1bd-b5db-4894-a68c-4106924134f3');\n",
              "          const dataTable =\n",
              "            await google.colab.kernel.invokeFunction('convertToInteractive',\n",
              "                                                     [key], {});\n",
              "          if (!dataTable) return;\n",
              "\n",
              "          const docLinkHtml = 'Like what you see? Visit the ' +\n",
              "            '<a target=\"_blank\" href=https://colab.research.google.com/notebooks/data_table.ipynb>data table notebook</a>'\n",
              "            + ' to learn more about interactive tables.';\n",
              "          element.innerHTML = '';\n",
              "          dataTable['output_type'] = 'display_data';\n",
              "          await google.colab.output.renderOutput(dataTable, element);\n",
              "          const docLink = document.createElement('div');\n",
              "          docLink.innerHTML = docLinkHtml;\n",
              "          element.appendChild(docLink);\n",
              "        }\n",
              "      </script>\n",
              "    </div>\n",
              "  </div>\n",
              "  "
            ]
          },
          "metadata": {},
          "execution_count": 31
        }
      ]
    },
    {
      "cell_type": "markdown",
      "source": [
        "Data Cleaning"
      ],
      "metadata": {
        "id": "otf1f8EYHiPS"
      }
    },
    {
      "cell_type": "code",
      "source": [
        "columns = list(data.columns)\n",
        "columns"
      ],
      "metadata": {
        "colab": {
          "base_uri": "https://localhost:8080/"
        },
        "id": "C3uzbR-cHkj4",
        "outputId": "4e4f9aa3-0e66-447e-cccf-0c2472e8c5b3"
      },
      "execution_count": 32,
      "outputs": [
        {
          "output_type": "execute_result",
          "data": {
            "text/plain": [
              "['Id',\n",
              " 'Title',\n",
              " 'Phase',\n",
              " 'Genres',\n",
              " 'Release Date',\n",
              " 'Director',\n",
              " 'ScreenWriter',\n",
              " 'Producer',\n",
              " 'Cast',\n",
              " 'Plot',\n",
              " 'Language',\n",
              " 'Filming Locations',\n",
              " 'Status',\n",
              " 'Movie Rating',\n",
              " 'Review Rating',\n",
              " 'Movie Run Time',\n",
              " 'Budget',\n",
              " 'Box office']"
            ]
          },
          "metadata": {},
          "execution_count": 32
        }
      ]
    },
    {
      "cell_type": "code",
      "source": [
        "data_req = data[['Id',\n",
        "                 'Title',\n",
        "                 'Phase',\n",
        "                 'Genres',\n",
        "                 'Release Date',\n",
        "                 'Review Rating',\n",
        "                 'Movie Run Time',\n",
        "                 'Budget',\n",
        "                 'Box office']]\n",
        "data_req.head(3)"
      ],
      "metadata": {
        "colab": {
          "base_uri": "https://localhost:8080/",
          "height": 257
        },
        "id": "a6cA7I2rKrSx",
        "outputId": "efefa037-cea1-4ddd-f2ba-0e17850f115a"
      },
      "execution_count": 33,
      "outputs": [
        {
          "output_type": "execute_result",
          "data": {
            "text/plain": [
              "   Id                Title      Phase                     Genres Release Date  \\\n",
              "0   1             Iron Man  Phase One  Action, Adventure, Sci-Fi   02-05-2008   \n",
              "1   2  The Incredible Hulk  Phase One  Action, Adventure, Sci-Fi   13-06-2008   \n",
              "2   3           Iron Man 2  Phase One  Action, Adventure, Sci-Fi   07-05-2010   \n",
              "\n",
              "   Review Rating Movie Run Time       Budget   Box office  \n",
              "0            7.9        126 min  140000000.0  585174222.0  \n",
              "1            6.7        112 min  150000000.0  263427551.0  \n",
              "2            7.0        124 min  200000000.0  623933331.0  "
            ],
            "text/html": [
              "\n",
              "  <div id=\"df-ea0095e7-e76b-4968-bbb9-081996a43009\">\n",
              "    <div class=\"colab-df-container\">\n",
              "      <div>\n",
              "<style scoped>\n",
              "    .dataframe tbody tr th:only-of-type {\n",
              "        vertical-align: middle;\n",
              "    }\n",
              "\n",
              "    .dataframe tbody tr th {\n",
              "        vertical-align: top;\n",
              "    }\n",
              "\n",
              "    .dataframe thead th {\n",
              "        text-align: right;\n",
              "    }\n",
              "</style>\n",
              "<table border=\"1\" class=\"dataframe\">\n",
              "  <thead>\n",
              "    <tr style=\"text-align: right;\">\n",
              "      <th></th>\n",
              "      <th>Id</th>\n",
              "      <th>Title</th>\n",
              "      <th>Phase</th>\n",
              "      <th>Genres</th>\n",
              "      <th>Release Date</th>\n",
              "      <th>Review Rating</th>\n",
              "      <th>Movie Run Time</th>\n",
              "      <th>Budget</th>\n",
              "      <th>Box office</th>\n",
              "    </tr>\n",
              "  </thead>\n",
              "  <tbody>\n",
              "    <tr>\n",
              "      <th>0</th>\n",
              "      <td>1</td>\n",
              "      <td>Iron Man</td>\n",
              "      <td>Phase One</td>\n",
              "      <td>Action, Adventure, Sci-Fi</td>\n",
              "      <td>02-05-2008</td>\n",
              "      <td>7.9</td>\n",
              "      <td>126 min</td>\n",
              "      <td>140000000.0</td>\n",
              "      <td>585174222.0</td>\n",
              "    </tr>\n",
              "    <tr>\n",
              "      <th>1</th>\n",
              "      <td>2</td>\n",
              "      <td>The Incredible Hulk</td>\n",
              "      <td>Phase One</td>\n",
              "      <td>Action, Adventure, Sci-Fi</td>\n",
              "      <td>13-06-2008</td>\n",
              "      <td>6.7</td>\n",
              "      <td>112 min</td>\n",
              "      <td>150000000.0</td>\n",
              "      <td>263427551.0</td>\n",
              "    </tr>\n",
              "    <tr>\n",
              "      <th>2</th>\n",
              "      <td>3</td>\n",
              "      <td>Iron Man 2</td>\n",
              "      <td>Phase One</td>\n",
              "      <td>Action, Adventure, Sci-Fi</td>\n",
              "      <td>07-05-2010</td>\n",
              "      <td>7.0</td>\n",
              "      <td>124 min</td>\n",
              "      <td>200000000.0</td>\n",
              "      <td>623933331.0</td>\n",
              "    </tr>\n",
              "  </tbody>\n",
              "</table>\n",
              "</div>\n",
              "      <button class=\"colab-df-convert\" onclick=\"convertToInteractive('df-ea0095e7-e76b-4968-bbb9-081996a43009')\"\n",
              "              title=\"Convert this dataframe to an interactive table.\"\n",
              "              style=\"display:none;\">\n",
              "        \n",
              "  <svg xmlns=\"http://www.w3.org/2000/svg\" height=\"24px\"viewBox=\"0 0 24 24\"\n",
              "       width=\"24px\">\n",
              "    <path d=\"M0 0h24v24H0V0z\" fill=\"none\"/>\n",
              "    <path d=\"M18.56 5.44l.94 2.06.94-2.06 2.06-.94-2.06-.94-.94-2.06-.94 2.06-2.06.94zm-11 1L8.5 8.5l.94-2.06 2.06-.94-2.06-.94L8.5 2.5l-.94 2.06-2.06.94zm10 10l.94 2.06.94-2.06 2.06-.94-2.06-.94-.94-2.06-.94 2.06-2.06.94z\"/><path d=\"M17.41 7.96l-1.37-1.37c-.4-.4-.92-.59-1.43-.59-.52 0-1.04.2-1.43.59L10.3 9.45l-7.72 7.72c-.78.78-.78 2.05 0 2.83L4 21.41c.39.39.9.59 1.41.59.51 0 1.02-.2 1.41-.59l7.78-7.78 2.81-2.81c.8-.78.8-2.07 0-2.86zM5.41 20L4 18.59l7.72-7.72 1.47 1.35L5.41 20z\"/>\n",
              "  </svg>\n",
              "      </button>\n",
              "      \n",
              "  <style>\n",
              "    .colab-df-container {\n",
              "      display:flex;\n",
              "      flex-wrap:wrap;\n",
              "      gap: 12px;\n",
              "    }\n",
              "\n",
              "    .colab-df-convert {\n",
              "      background-color: #E8F0FE;\n",
              "      border: none;\n",
              "      border-radius: 50%;\n",
              "      cursor: pointer;\n",
              "      display: none;\n",
              "      fill: #1967D2;\n",
              "      height: 32px;\n",
              "      padding: 0 0 0 0;\n",
              "      width: 32px;\n",
              "    }\n",
              "\n",
              "    .colab-df-convert:hover {\n",
              "      background-color: #E2EBFA;\n",
              "      box-shadow: 0px 1px 2px rgba(60, 64, 67, 0.3), 0px 1px 3px 1px rgba(60, 64, 67, 0.15);\n",
              "      fill: #174EA6;\n",
              "    }\n",
              "\n",
              "    [theme=dark] .colab-df-convert {\n",
              "      background-color: #3B4455;\n",
              "      fill: #D2E3FC;\n",
              "    }\n",
              "\n",
              "    [theme=dark] .colab-df-convert:hover {\n",
              "      background-color: #434B5C;\n",
              "      box-shadow: 0px 1px 3px 1px rgba(0, 0, 0, 0.15);\n",
              "      filter: drop-shadow(0px 1px 2px rgba(0, 0, 0, 0.3));\n",
              "      fill: #FFFFFF;\n",
              "    }\n",
              "  </style>\n",
              "\n",
              "      <script>\n",
              "        const buttonEl =\n",
              "          document.querySelector('#df-ea0095e7-e76b-4968-bbb9-081996a43009 button.colab-df-convert');\n",
              "        buttonEl.style.display =\n",
              "          google.colab.kernel.accessAllowed ? 'block' : 'none';\n",
              "\n",
              "        async function convertToInteractive(key) {\n",
              "          const element = document.querySelector('#df-ea0095e7-e76b-4968-bbb9-081996a43009');\n",
              "          const dataTable =\n",
              "            await google.colab.kernel.invokeFunction('convertToInteractive',\n",
              "                                                     [key], {});\n",
              "          if (!dataTable) return;\n",
              "\n",
              "          const docLinkHtml = 'Like what you see? Visit the ' +\n",
              "            '<a target=\"_blank\" href=https://colab.research.google.com/notebooks/data_table.ipynb>data table notebook</a>'\n",
              "            + ' to learn more about interactive tables.';\n",
              "          element.innerHTML = '';\n",
              "          dataTable['output_type'] = 'display_data';\n",
              "          await google.colab.output.renderOutput(dataTable, element);\n",
              "          const docLink = document.createElement('div');\n",
              "          docLink.innerHTML = docLinkHtml;\n",
              "          element.appendChild(docLink);\n",
              "        }\n",
              "      </script>\n",
              "    </div>\n",
              "  </div>\n",
              "  "
            ]
          },
          "metadata": {},
          "execution_count": 33
        }
      ]
    },
    {
      "cell_type": "code",
      "source": [
        "infinitysaga = pd.concat([data_req[data_req['Phase'] == \"Phase One\"], \n",
        "                          data_req[data_req['Phase'] == \"Phase Two\"], \n",
        "                          data_req[data_req['Phase'] == \"Phase Three\"]])\n",
        "infinitysaga.head(3)"
      ],
      "metadata": {
        "colab": {
          "base_uri": "https://localhost:8080/",
          "height": 257
        },
        "id": "msLLIwbaeX_l",
        "outputId": "0c9700da-b301-46f6-d7a6-6f51ef89c6bf"
      },
      "execution_count": 34,
      "outputs": [
        {
          "output_type": "execute_result",
          "data": {
            "text/plain": [
              "   Id                Title      Phase                     Genres Release Date  \\\n",
              "0   1             Iron Man  Phase One  Action, Adventure, Sci-Fi   02-05-2008   \n",
              "1   2  The Incredible Hulk  Phase One  Action, Adventure, Sci-Fi   13-06-2008   \n",
              "2   3           Iron Man 2  Phase One  Action, Adventure, Sci-Fi   07-05-2010   \n",
              "\n",
              "   Review Rating Movie Run Time       Budget   Box office  \n",
              "0            7.9        126 min  140000000.0  585174222.0  \n",
              "1            6.7        112 min  150000000.0  263427551.0  \n",
              "2            7.0        124 min  200000000.0  623933331.0  "
            ],
            "text/html": [
              "\n",
              "  <div id=\"df-33c62a32-8077-4133-8131-873ec6c93653\">\n",
              "    <div class=\"colab-df-container\">\n",
              "      <div>\n",
              "<style scoped>\n",
              "    .dataframe tbody tr th:only-of-type {\n",
              "        vertical-align: middle;\n",
              "    }\n",
              "\n",
              "    .dataframe tbody tr th {\n",
              "        vertical-align: top;\n",
              "    }\n",
              "\n",
              "    .dataframe thead th {\n",
              "        text-align: right;\n",
              "    }\n",
              "</style>\n",
              "<table border=\"1\" class=\"dataframe\">\n",
              "  <thead>\n",
              "    <tr style=\"text-align: right;\">\n",
              "      <th></th>\n",
              "      <th>Id</th>\n",
              "      <th>Title</th>\n",
              "      <th>Phase</th>\n",
              "      <th>Genres</th>\n",
              "      <th>Release Date</th>\n",
              "      <th>Review Rating</th>\n",
              "      <th>Movie Run Time</th>\n",
              "      <th>Budget</th>\n",
              "      <th>Box office</th>\n",
              "    </tr>\n",
              "  </thead>\n",
              "  <tbody>\n",
              "    <tr>\n",
              "      <th>0</th>\n",
              "      <td>1</td>\n",
              "      <td>Iron Man</td>\n",
              "      <td>Phase One</td>\n",
              "      <td>Action, Adventure, Sci-Fi</td>\n",
              "      <td>02-05-2008</td>\n",
              "      <td>7.9</td>\n",
              "      <td>126 min</td>\n",
              "      <td>140000000.0</td>\n",
              "      <td>585174222.0</td>\n",
              "    </tr>\n",
              "    <tr>\n",
              "      <th>1</th>\n",
              "      <td>2</td>\n",
              "      <td>The Incredible Hulk</td>\n",
              "      <td>Phase One</td>\n",
              "      <td>Action, Adventure, Sci-Fi</td>\n",
              "      <td>13-06-2008</td>\n",
              "      <td>6.7</td>\n",
              "      <td>112 min</td>\n",
              "      <td>150000000.0</td>\n",
              "      <td>263427551.0</td>\n",
              "    </tr>\n",
              "    <tr>\n",
              "      <th>2</th>\n",
              "      <td>3</td>\n",
              "      <td>Iron Man 2</td>\n",
              "      <td>Phase One</td>\n",
              "      <td>Action, Adventure, Sci-Fi</td>\n",
              "      <td>07-05-2010</td>\n",
              "      <td>7.0</td>\n",
              "      <td>124 min</td>\n",
              "      <td>200000000.0</td>\n",
              "      <td>623933331.0</td>\n",
              "    </tr>\n",
              "  </tbody>\n",
              "</table>\n",
              "</div>\n",
              "      <button class=\"colab-df-convert\" onclick=\"convertToInteractive('df-33c62a32-8077-4133-8131-873ec6c93653')\"\n",
              "              title=\"Convert this dataframe to an interactive table.\"\n",
              "              style=\"display:none;\">\n",
              "        \n",
              "  <svg xmlns=\"http://www.w3.org/2000/svg\" height=\"24px\"viewBox=\"0 0 24 24\"\n",
              "       width=\"24px\">\n",
              "    <path d=\"M0 0h24v24H0V0z\" fill=\"none\"/>\n",
              "    <path d=\"M18.56 5.44l.94 2.06.94-2.06 2.06-.94-2.06-.94-.94-2.06-.94 2.06-2.06.94zm-11 1L8.5 8.5l.94-2.06 2.06-.94-2.06-.94L8.5 2.5l-.94 2.06-2.06.94zm10 10l.94 2.06.94-2.06 2.06-.94-2.06-.94-.94-2.06-.94 2.06-2.06.94z\"/><path d=\"M17.41 7.96l-1.37-1.37c-.4-.4-.92-.59-1.43-.59-.52 0-1.04.2-1.43.59L10.3 9.45l-7.72 7.72c-.78.78-.78 2.05 0 2.83L4 21.41c.39.39.9.59 1.41.59.51 0 1.02-.2 1.41-.59l7.78-7.78 2.81-2.81c.8-.78.8-2.07 0-2.86zM5.41 20L4 18.59l7.72-7.72 1.47 1.35L5.41 20z\"/>\n",
              "  </svg>\n",
              "      </button>\n",
              "      \n",
              "  <style>\n",
              "    .colab-df-container {\n",
              "      display:flex;\n",
              "      flex-wrap:wrap;\n",
              "      gap: 12px;\n",
              "    }\n",
              "\n",
              "    .colab-df-convert {\n",
              "      background-color: #E8F0FE;\n",
              "      border: none;\n",
              "      border-radius: 50%;\n",
              "      cursor: pointer;\n",
              "      display: none;\n",
              "      fill: #1967D2;\n",
              "      height: 32px;\n",
              "      padding: 0 0 0 0;\n",
              "      width: 32px;\n",
              "    }\n",
              "\n",
              "    .colab-df-convert:hover {\n",
              "      background-color: #E2EBFA;\n",
              "      box-shadow: 0px 1px 2px rgba(60, 64, 67, 0.3), 0px 1px 3px 1px rgba(60, 64, 67, 0.15);\n",
              "      fill: #174EA6;\n",
              "    }\n",
              "\n",
              "    [theme=dark] .colab-df-convert {\n",
              "      background-color: #3B4455;\n",
              "      fill: #D2E3FC;\n",
              "    }\n",
              "\n",
              "    [theme=dark] .colab-df-convert:hover {\n",
              "      background-color: #434B5C;\n",
              "      box-shadow: 0px 1px 3px 1px rgba(0, 0, 0, 0.15);\n",
              "      filter: drop-shadow(0px 1px 2px rgba(0, 0, 0, 0.3));\n",
              "      fill: #FFFFFF;\n",
              "    }\n",
              "  </style>\n",
              "\n",
              "      <script>\n",
              "        const buttonEl =\n",
              "          document.querySelector('#df-33c62a32-8077-4133-8131-873ec6c93653 button.colab-df-convert');\n",
              "        buttonEl.style.display =\n",
              "          google.colab.kernel.accessAllowed ? 'block' : 'none';\n",
              "\n",
              "        async function convertToInteractive(key) {\n",
              "          const element = document.querySelector('#df-33c62a32-8077-4133-8131-873ec6c93653');\n",
              "          const dataTable =\n",
              "            await google.colab.kernel.invokeFunction('convertToInteractive',\n",
              "                                                     [key], {});\n",
              "          if (!dataTable) return;\n",
              "\n",
              "          const docLinkHtml = 'Like what you see? Visit the ' +\n",
              "            '<a target=\"_blank\" href=https://colab.research.google.com/notebooks/data_table.ipynb>data table notebook</a>'\n",
              "            + ' to learn more about interactive tables.';\n",
              "          element.innerHTML = '';\n",
              "          dataTable['output_type'] = 'display_data';\n",
              "          await google.colab.output.renderOutput(dataTable, element);\n",
              "          const docLink = document.createElement('div');\n",
              "          docLink.innerHTML = docLinkHtml;\n",
              "          element.appendChild(docLink);\n",
              "        }\n",
              "      </script>\n",
              "    </div>\n",
              "  </div>\n",
              "  "
            ]
          },
          "metadata": {},
          "execution_count": 34
        }
      ]
    },
    {
      "cell_type": "markdown",
      "source": [
        "Saving the Modified Dataset"
      ],
      "metadata": {
        "id": "g43lBshUB8fo"
      }
    },
    {
      "cell_type": "code",
      "source": [
        "infinitysaga.to_csv('InfinitySaga.csv')"
      ],
      "metadata": {
        "id": "i-eFapAEB71L"
      },
      "execution_count": 35,
      "outputs": []
    },
    {
      "cell_type": "markdown",
      "source": [
        "[ADDITIONAL] Compare Run Time, Rating, Budget, Box Office"
      ],
      "metadata": {
        "id": "g1rJNI2pP6Be"
      }
    },
    {
      "cell_type": "code",
      "source": [
        "from matplotlib import pyplot\n",
        "import seaborn as sns"
      ],
      "metadata": {
        "id": "Ik_RbixMCN1e"
      },
      "execution_count": 36,
      "outputs": []
    },
    {
      "cell_type": "code",
      "source": [
        "plot1 = sns.pointplot(\n",
        "    x = infinitysaga[\"Movie Run Time\"].str.slice(0,3).astype(int),\n",
        "    y = infinitysaga[\"Box office\"],\n",
        "    hue = infinitysaga['Phase'],\n",
        "    ).set_title(\"Runtime - Box Office Correlation\")\n",
        "pyplot.xlabel(\"Run Time (in Minutes)\")\n",
        "pyplot.ylabel(\"Box Office Collection (in Billions)\")"
      ],
      "metadata": {
        "colab": {
          "base_uri": "https://localhost:8080/",
          "height": 489
        },
        "id": "ESsM-qLCilJP",
        "outputId": "43595322-bf44-42d8-a785-dfcac839dfdb"
      },
      "execution_count": 37,
      "outputs": [
        {
          "output_type": "execute_result",
          "data": {
            "text/plain": [
              "Text(0, 0.5, 'Box Office Collection (in Billions)')"
            ]
          },
          "metadata": {},
          "execution_count": 37
        },
        {
          "output_type": "display_data",
          "data": {
            "text/plain": [
              "<Figure size 640x480 with 1 Axes>"
            ],
            "image/png": "[encoded data removed]"
          },
          "metadata": {}
        }
      ]
    },
    {
      "cell_type": "code",
      "source": [
        "plot2 = sns.lineplot(\n",
        "    x = infinitysaga[\"Box office\"],\n",
        "    y = infinitysaga[\"Review Rating\"],\n",
        "    hue = infinitysaga['Phase']\n",
        "    ).set_title(\"Rating - Box Office Correlation\")\n",
        "pyplot.xlabel(\"Box Office Collection (in Billions)\")"
      ],
      "metadata": {
        "colab": {
          "base_uri": "https://localhost:8080/",
          "height": 489
        },
        "id": "SahTRNkpcyTc",
        "outputId": "ebcbaec6-935c-4fcc-dbfa-86194ca50bb8"
      },
      "execution_count": 38,
      "outputs": [
        {
          "output_type": "execute_result",
          "data": {
            "text/plain": [
              "Text(0.5, 0, 'Box Office Collection (in Billions)')"
            ]
          },
          "metadata": {},
          "execution_count": 38
        },
        {
          "output_type": "display_data",
          "data": {
            "text/plain": [
              "<Figure size 640x480 with 1 Axes>"
            ],
            "image/png": "[encoded data removed]"
          },
          "metadata": {}
        }
      ]
    },
    {
      "cell_type": "code",
      "source": [
        "sns.lineplot(\n",
        "    x = infinitysaga['Box office'].astype(int),\n",
        "    y = infinitysaga['Budget'].astype(int))\n",
        "pyplot.title(\"Box Office - Budget\")\n",
        "pyplot.xlabel(\"Box Office Collection (in Billions)\")\n",
        "pyplot.ylabel(\"Budget (in 100 Millions)\")"
      ],
      "metadata": {
        "colab": {
          "base_uri": "https://localhost:8080/",
          "height": 489
        },
        "id": "RAHWM2k5M9ys",
        "outputId": "73261733-205e-43cb-aea4-04ac36c5e910"
      },
      "execution_count": 39,
      "outputs": [
        {
          "output_type": "execute_result",
          "data": {
            "text/plain": [
              "Text(0, 0.5, 'Budget (in 100 Millions)')"
            ]
          },
          "metadata": {},
          "execution_count": 39
        },
        {
          "output_type": "display_data",
          "data": {
            "text/plain": [
              "<Figure size 640x480 with 1 Axes>"
            ],
            "image/png": "[encoded data removed]"
          },
          "metadata": {}
        }
      ]
    }
  ]
}